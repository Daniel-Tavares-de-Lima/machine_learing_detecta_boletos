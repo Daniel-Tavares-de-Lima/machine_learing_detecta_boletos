{
 "cells": [
  {
   "cell_type": "markdown",
   "id": "ee1c663a",
   "metadata": {},
   "source": [
    "# # Treinamento do Modelo de Detecção de Boletos"
   ]
  },
  {
   "cell_type": "markdown",
   "id": "7a685e78",
   "metadata": {},
   "source": [
    "### Imports"
   ]
  },
  {
   "cell_type": "code",
   "execution_count": 73,
   "id": "d5de3140",
   "metadata": {},
   "outputs": [],
   "source": [
    "import pandas as pd\n",
    "import json\n",
    "import numpy as np\n",
    "from sklearn.ensemble import RandomForestClassifier\n",
    "from sklearn.model_selection import train_test_split\n",
    "from sklearn.metrics import accuracy_score, classification_report, confusion_matrix\n",
    "from sklearn.metrics import ConfusionMatrixDisplay\n",
    "import matplotlib.pyplot as plt\n",
    "import pickle\n",
    "import shap\n",
    "import os\n"
   ]
  },
  {
   "cell_type": "code",
   "execution_count": 74,
   "id": "2fa5dfa7",
   "metadata": {},
   "outputs": [],
   "source": [
    "MODEL_PATH = r'C:\\Users\\toyst\\Documents\\Projetos\\Projeto da Residência - Banco do Brasil(2025.2)\\backend\\detectaBB_backend\\modelo_boleto.pkl'"
   ]
  },
  {
   "cell_type": "markdown",
   "id": "4cec88de",
   "metadata": {},
   "source": [
    "### # 2. Carregamento e Prepara os Dados"
   ]
  },
  {
   "cell_type": "code",
   "execution_count": 75,
   "id": "03180181",
   "metadata": {},
   "outputs": [
    {
     "name": "stdout",
     "output_type": "stream",
     "text": [
      "Dados carregados:\n",
      "  banco codigoBanco agencia   valor  \\\n",
      "0  Itaú         341    0773  890.00   \n",
      "1  Itaú         341    0773  467.00   \n",
      "2  Itaú         341    0773  230.00   \n",
      "3  Itaú         341    0773  986.00   \n",
      "4  Itaú         341    0773  766.00   \n",
      "\n",
      "                                      linhaDigitavel  \\\n",
      "0  34190.00000 00000.000000 00000.000000 0 000000...   \n",
      "1  34190.00000 00000.000000 00000.000000 0 000000...   \n",
      "2  34190.00000 00000.000000 00000.000000 0 000000...   \n",
      "3  34190.00000 00000.000000 00000.000000 0 000000...   \n",
      "4  34190.00000 00000.000000 00000.000000 0 000000...   \n",
      "\n",
      "                       classe  \n",
      "0  caracteristicasVerdadeiras  \n",
      "1  caracteristicasVerdadeiras  \n",
      "2  caracteristicasVerdadeiras  \n",
      "3  caracteristicasVerdadeiras  \n",
      "4  caracteristicasVerdadeiras  \n"
     ]
    }
   ],
   "source": [
    "try:\n",
    "    with open('completos.json', 'r', encoding='utf-8') as f:\n",
    "        dados = json.load(f)\n",
    "except FileNotFoundError:\n",
    "    print(\"Erro: Arquivo completos.json não encontrado.\")\n",
    "    exit(1)\n",
    "\n",
    "df = pd.DataFrame(dados)\n",
    "print('Dados carregados:')\n",
    "print(df.head())\n"
   ]
  },
  {
   "cell_type": "markdown",
   "id": "1e4db930",
   "metadata": {},
   "source": [
    "### # Mapear bancos para índices numéricos"
   ]
  },
  {
   "cell_type": "code",
   "execution_count": 76,
   "id": "35b65c19",
   "metadata": {},
   "outputs": [],
   "source": [
    "mapeamento_bancos = {\n",
    "    'Banco do Brasil': 0,\n",
    "    'Itaú': 1,\n",
    "    'Bradesco': 2,\n",
    "    'Santander': 3,\n",
    "    'Caixa Econômica': 4,\n",
    "    'Banco Digio S.A.': 5,\n",
    "    'CM CAPITAL MARKETS CORRETORA DE CÂMBIO, TÍTULOS E VALORES MOBILIÁRIOS LTDA': 6,\n",
    "    'Banco Clássico S.A.': 7,\n",
    "    'Credialiança Cooperativa de Crédito Rural': 8,\n",
    "    'CREDICOAMO CREDITO RURAL COOPERATIVA': 9,\n",
    "    # Bancos falsos\n",
    "    'OLIVEIRA TRUST DISTRIBUIDORA DE TÍTULOS E VALORES MOBILIARIOS S.A.': 10,\n",
    "    'Pagseguro Internet S.A. – PagBank': 11,\n",
    "    'NU Pagamentos S.A. – Nubank': 12,\n",
    "    'ATIVA INVESTIMENTOS S.A. CORRETORA DE TÍTULOS, CÂMBIO E VALORES': 13,\n",
    "    'Banco Inbursa S.A.': 14,\n",
    "    'SOROCRED CRÉDITO, FINANCIAMENTO E INVESTIMENTO S.A.': 15,\n",
    "    'Banco Finaxis S.A.': 16,\n",
    "    'SOCRED S.A. – SOCIEDADE DE CRÉDITO AO MICROEMPREENDEDOR E À EMPRESA DE PEQUENO P': 17\n",
    "}\n",
    "df['banco'] = df['banco'].map(mapeamento_bancos).fillna(0).astype(float)\n",
    "\n",
    "\n",
    "# Mapear classe\n",
    "df['classe'] = df['classe'].map({\n",
    "    'caracteristicasVerdadeiras': 1,\n",
    "    'caracteristicasFalsas': 0\n",
    "}).astype(float)"
   ]
  },
  {
   "cell_type": "code",
   "execution_count": 77,
   "id": "0525430e",
   "metadata": {},
   "outputs": [
    {
     "name": "stdout",
     "output_type": "stream",
     "text": [
      "['banco', 'codigoBanco', 'agencia', 'valor', 'linhaDigitavel', 'classe']\n"
     ]
    }
   ],
   "source": [
    "print(df.columns.tolist())\n"
   ]
  },
  {
   "cell_type": "markdown",
   "id": "636e93bf",
   "metadata": {},
   "source": [
    "### # Processar linha digitável e selecionar as features"
   ]
  },
  {
   "cell_type": "code",
   "execution_count": 78,
   "id": "ce6daccc",
   "metadata": {},
   "outputs": [
    {
     "name": "stdout",
     "output_type": "stream",
     "text": [
      "✅ Features preparadas:\n",
      "   banco  codigoBanco  agencia  valor  linha_codBanco  linha_moeda  \\\n",
      "0    1.0        341.0    773.0  890.0           341.0          9.0   \n",
      "1    1.0        341.0    773.0  467.0           341.0          9.0   \n",
      "2    1.0        341.0    773.0  230.0           341.0          9.0   \n",
      "3    1.0        341.0    773.0  986.0           341.0          9.0   \n",
      "4    1.0        341.0    773.0  766.0           341.0          9.0   \n",
      "\n",
      "   linha_valor  \n",
      "0      89000.0  \n",
      "1      46700.0  \n",
      "2      23000.0  \n",
      "3      98600.0  \n",
      "4      76600.0  \n"
     ]
    }
   ],
   "source": [
    "df['linhaDigitavel'] = df['linhaDigitavel'].str.replace(' ', '').str.replace('.', '').astype(str)\n",
    "df['linha_codBanco'] = df['linhaDigitavel'].str.slice(0, 3).fillna('0').astype(float)\n",
    "df['linha_moeda'] = df['linhaDigitavel'].str.slice(3, 4).fillna('9').astype(float)\n",
    "df['linha_valor'] = df['linhaDigitavel'].str.slice(-10).fillna('0').astype(float)\n",
    "\n",
    "# Selecionar features\n",
    "features = ['banco', 'codigoBanco', 'agencia', 'valor', \n",
    "            'linha_codBanco', 'linha_moeda', 'linha_valor']\n",
    "\n",
    "X = df[features].fillna(0).astype(float)\n",
    "y = df['classe'].fillna(0).astype(float)\n",
    "\n",
    "print('✅ Features preparadas:')\n",
    "print(X.head())"
   ]
  },
  {
   "cell_type": "markdown",
   "id": "a010d3e3",
   "metadata": {},
   "source": [
    "### Divisão dos dados"
   ]
  },
  {
   "cell_type": "code",
   "execution_count": 79,
   "id": "71201392",
   "metadata": {},
   "outputs": [
    {
     "name": "stdout",
     "output_type": "stream",
     "text": [
      "Treino: (400, 7), Teste: (100, 7)\n"
     ]
    }
   ],
   "source": [
    "X_train, X_test, y_train, y_test = train_test_split(X, y, test_size=0.2, random_state=42)\n",
    "print(f'Treino: {X_train.shape}, Teste: {X_test.shape}')"
   ]
  },
  {
   "cell_type": "markdown",
   "id": "6d0a65ef",
   "metadata": {},
   "source": [
    "### Treinar o modelo"
   ]
  },
  {
   "cell_type": "code",
   "execution_count": 80,
   "id": "92f3c0f2",
   "metadata": {},
   "outputs": [
    {
     "name": "stdout",
     "output_type": "stream",
     "text": [
      "Acurácia: 0.8\n",
      "Classification Report:\n",
      "              precision    recall  f1-score   support\n",
      "\n",
      "       Falso       0.89      0.72      0.80        54\n",
      "  Verdadeiro       0.73      0.89      0.80        46\n",
      "\n",
      "    accuracy                           0.80       100\n",
      "   macro avg       0.81      0.81      0.80       100\n",
      "weighted avg       0.82      0.80      0.80       100\n",
      "\n"
     ]
    }
   ],
   "source": [
    "model = RandomForestClassifier(random_state=42)\n",
    "model.fit(X_train, y_train)\n",
    "\n",
    "\n",
    "# Avaliar\n",
    "y_pred = model.predict(X_test)\n",
    "print('Acurácia:', accuracy_score(y_test, y_pred))\n",
    "print('Classification Report:')\n",
    "print(classification_report(y_test, y_pred, target_names=['Falso', 'Verdadeiro']))\n"
   ]
  },
  {
   "cell_type": "markdown",
   "id": "14a32c7e",
   "metadata": {},
   "source": [
    "## Análise com SHAP - XAI"
   ]
  },
  {
   "cell_type": "code",
   "execution_count": 81,
   "id": "63931f59",
   "metadata": {},
   "outputs": [],
   "source": [
    "# 5. Análise com SHAP\n",
    "explainer = shap.TreeExplainer(model)\n",
    "shap_values = explainer.shap_values(X_test)\n",
    "shap_exp_test = explainer(X_test)"
   ]
  },
  {
   "cell_type": "markdown",
   "id": "02001994",
   "metadata": {},
   "source": [
    "## # Plotar resumo para a classe 'Falso' (índice 0)"
   ]
  },
  {
   "cell_type": "code",
   "execution_count": 82,
   "id": "136f9c76",
   "metadata": {},
   "outputs": [
    {
     "name": "stdout",
     "output_type": "stream",
     "text": [
      "✅ Dimensões:\n",
      "X_shap: (100, 7)\n",
      "shap_values[0]: (7, 2)\n",
      "shap_values[1]: (7, 2)\n"
     ]
    },
    {
     "data": {
      "image/png": "[encoded data removed]",
      "text/plain": [
       "<Figure size 1150x660 with 2 Axes>"
      ]
     },
     "metadata": {},
     "output_type": "display_data"
    },
    {
     "data": {
      "image/png": "[encoded data removed]",
      "text/plain": [
       "<Figure size 640x480 with 1 Axes>"
      ]
     },
     "metadata": {},
     "output_type": "display_data"
    }
   ],
   "source": [
    "# Transformar X_test em numpy (necessário para o SHAP)\n",
    "X_shap = X_test.to_numpy()\n",
    "\n",
    "print(\"✅ Dimensões:\")\n",
    "print(\"X_shap:\", X_shap.shape)\n",
    "print(\"shap_values[0]:\", shap_values[0].shape)\n",
    "print(\"shap_values[1]:\", shap_values[1].shape)\n",
    "\n",
    "# # Plot para classe Falso\n",
    "# shap.summary_plot(shap_values[0], X_shap, feature_names=features, plot_type='bar')\n",
    "# plt.title('Importância das Features - Classe Falso')\n",
    "# plt.tight_layout()\n",
    "# plt.show()\n",
    "\n",
    "# # Plot para classe Verdadeiro\n",
    "# shap.summary_plot(shap_values[1], X_shap, feature_names=features, plot_type='bar')\n",
    "# plt.title('Importância das Features - Classe Verdadeiro')\n",
    "# plt.tight_layout()\n",
    "# plt.show()\n",
    "shap.summary_plot(shap_exp_test.values, X_test, feature_names=features, plot_type='bar')\n",
    "plt.title('Importância das Features - Conjunto de Teste')\n",
    "plt.tight_layout()\n",
    "plt.show()"
   ]
  },
  {
   "cell_type": "code",
   "execution_count": 83,
   "id": "53e84b28",
   "metadata": {},
   "outputs": [
    {
     "name": "stdout",
     "output_type": "stream",
     "text": [
      "X_test shape: (100, 7)\n",
      "X_shap shape: (100, 7)\n",
      "shap_values[0] shape: (7, 2)\n",
      "shap_values[1] shape: (7, 2)\n",
      "shap_values[2] shape: (7, 2)\n",
      "shap_values[3] shape: (7, 2)\n",
      "shap_values[4] shape: (7, 2)\n",
      "shap_values[5] shape: (7, 2)\n",
      "shap_values[6] shape: (7, 2)\n",
      "shap_values[7] shape: (7, 2)\n",
      "shap_values[8] shape: (7, 2)\n",
      "shap_values[9] shape: (7, 2)\n",
      "shap_values[10] shape: (7, 2)\n",
      "shap_values[11] shape: (7, 2)\n",
      "shap_values[12] shape: (7, 2)\n",
      "shap_values[13] shape: (7, 2)\n",
      "shap_values[14] shape: (7, 2)\n",
      "shap_values[15] shape: (7, 2)\n",
      "shap_values[16] shape: (7, 2)\n",
      "shap_values[17] shape: (7, 2)\n",
      "shap_values[18] shape: (7, 2)\n",
      "shap_values[19] shape: (7, 2)\n",
      "shap_values[20] shape: (7, 2)\n",
      "shap_values[21] shape: (7, 2)\n",
      "shap_values[22] shape: (7, 2)\n",
      "shap_values[23] shape: (7, 2)\n",
      "shap_values[24] shape: (7, 2)\n",
      "shap_values[25] shape: (7, 2)\n",
      "shap_values[26] shape: (7, 2)\n",
      "shap_values[27] shape: (7, 2)\n",
      "shap_values[28] shape: (7, 2)\n",
      "shap_values[29] shape: (7, 2)\n",
      "shap_values[30] shape: (7, 2)\n",
      "shap_values[31] shape: (7, 2)\n",
      "shap_values[32] shape: (7, 2)\n",
      "shap_values[33] shape: (7, 2)\n",
      "shap_values[34] shape: (7, 2)\n",
      "shap_values[35] shape: (7, 2)\n",
      "shap_values[36] shape: (7, 2)\n",
      "shap_values[37] shape: (7, 2)\n",
      "shap_values[38] shape: (7, 2)\n",
      "shap_values[39] shape: (7, 2)\n",
      "shap_values[40] shape: (7, 2)\n",
      "shap_values[41] shape: (7, 2)\n",
      "shap_values[42] shape: (7, 2)\n",
      "shap_values[43] shape: (7, 2)\n",
      "shap_values[44] shape: (7, 2)\n",
      "shap_values[45] shape: (7, 2)\n",
      "shap_values[46] shape: (7, 2)\n",
      "shap_values[47] shape: (7, 2)\n",
      "shap_values[48] shape: (7, 2)\n",
      "shap_values[49] shape: (7, 2)\n",
      "shap_values[50] shape: (7, 2)\n",
      "shap_values[51] shape: (7, 2)\n",
      "shap_values[52] shape: (7, 2)\n",
      "shap_values[53] shape: (7, 2)\n",
      "shap_values[54] shape: (7, 2)\n",
      "shap_values[55] shape: (7, 2)\n",
      "shap_values[56] shape: (7, 2)\n",
      "shap_values[57] shape: (7, 2)\n",
      "shap_values[58] shape: (7, 2)\n",
      "shap_values[59] shape: (7, 2)\n",
      "shap_values[60] shape: (7, 2)\n",
      "shap_values[61] shape: (7, 2)\n",
      "shap_values[62] shape: (7, 2)\n",
      "shap_values[63] shape: (7, 2)\n",
      "shap_values[64] shape: (7, 2)\n",
      "shap_values[65] shape: (7, 2)\n",
      "shap_values[66] shape: (7, 2)\n",
      "shap_values[67] shape: (7, 2)\n",
      "shap_values[68] shape: (7, 2)\n",
      "shap_values[69] shape: (7, 2)\n",
      "shap_values[70] shape: (7, 2)\n",
      "shap_values[71] shape: (7, 2)\n",
      "shap_values[72] shape: (7, 2)\n",
      "shap_values[73] shape: (7, 2)\n",
      "shap_values[74] shape: (7, 2)\n",
      "shap_values[75] shape: (7, 2)\n",
      "shap_values[76] shape: (7, 2)\n",
      "shap_values[77] shape: (7, 2)\n",
      "shap_values[78] shape: (7, 2)\n",
      "shap_values[79] shape: (7, 2)\n",
      "shap_values[80] shape: (7, 2)\n",
      "shap_values[81] shape: (7, 2)\n",
      "shap_values[82] shape: (7, 2)\n",
      "shap_values[83] shape: (7, 2)\n",
      "shap_values[84] shape: (7, 2)\n",
      "shap_values[85] shape: (7, 2)\n",
      "shap_values[86] shape: (7, 2)\n",
      "shap_values[87] shape: (7, 2)\n",
      "shap_values[88] shape: (7, 2)\n",
      "shap_values[89] shape: (7, 2)\n",
      "shap_values[90] shape: (7, 2)\n",
      "shap_values[91] shape: (7, 2)\n",
      "shap_values[92] shape: (7, 2)\n",
      "shap_values[93] shape: (7, 2)\n",
      "shap_values[94] shape: (7, 2)\n",
      "shap_values[95] shape: (7, 2)\n",
      "shap_values[96] shape: (7, 2)\n",
      "shap_values[97] shape: (7, 2)\n",
      "shap_values[98] shape: (7, 2)\n",
      "shap_values[99] shape: (7, 2)\n"
     ]
    }
   ],
   "source": [
    "print(\"X_test shape:\", X_test.shape)\n",
    "print(\"X_shap shape:\", X_shap.shape)\n",
    "\n",
    "for i, sv in enumerate(shap_values):\n",
    "    print(f\"shap_values[{i}] shape:\", sv.shape)\n"
   ]
  },
  {
   "cell_type": "code",
   "execution_count": 84,
   "id": "b7518e5b",
   "metadata": {},
   "outputs": [],
   "source": [
    "# DataFrame da primeira amostra\n",
    "dado_teste = df[features].iloc[[0]].astype(float)  # DataFrame 1x7\n",
    "\n",
    "# Predição\n",
    "pred = int(model.predict(dado_teste)[0])\n",
    "\n",
    "# SHAP Explanation moderno\n",
    "shap_exp = explainer(dado_teste)\n",
    "\n",
    "# Valores SHAP para a classe predita\n",
    "shap_vals_classe = shap_exp.values[0][pred]  # primeira amostra, classe predita\n",
    "\n",
    "# Array das features (somente as usadas pelo modelo)\n",
    "features_array = dado_teste.iloc[0].to_numpy()\n",
    "\n"
   ]
  },
  {
   "cell_type": "markdown",
   "id": "e963082d",
   "metadata": {},
   "source": [
    "### # Plotar resumo para a classe 'Verdadeiro' (índice 1)\n"
   ]
  },
  {
   "cell_type": "code",
   "execution_count": 85,
   "id": "fe266649",
   "metadata": {},
   "outputs": [],
   "source": [
    "# shap.summary_plot(shap_values[1], X_test, plot_type='bar', feature_names=features, show=False)\n",
    "# plt.title('Importância das Features para Classe Verdadeiro')\n",
    "# plt.tight_layout()\n",
    "# plt.show()"
   ]
  },
  {
   "cell_type": "markdown",
   "id": "fac7c22f",
   "metadata": {},
   "source": [
    "### Salvar o modelo"
   ]
  },
  {
   "cell_type": "code",
   "execution_count": 86,
   "id": "f9d8a2e5",
   "metadata": {},
   "outputs": [
    {
     "name": "stdout",
     "output_type": "stream",
     "text": [
      "✅ Modelo salvo em: C:\\Users\\toyst\\Documents\\Projetos\\Projeto da Residência - Banco do Brasil(2025.2)\\backend\\detectaBB_backend\\modelo_boleto.pkl\n"
     ]
    }
   ],
   "source": [
    "pickle.dump(model, open(MODEL_PATH, 'wb'))\n",
    "print(f'✅ Modelo salvo em: {MODEL_PATH}')\n",
    "\n"
   ]
  },
  {
   "cell_type": "code",
   "execution_count": null,
   "id": "fa39d73c",
   "metadata": {},
   "outputs": [],
   "source": [
    "\n",
    "\n",
    "# Função para explicar predições\n",
    "def explicar_predicao(explainer, dado, features):\n",
    "    try:\n",
    "        shap_exp = explainer(dado)\n",
    "        pred = int(model.predict(dado)[0])\n",
    "        \n",
    "        # Ajustar shap_values para classificador binário ou multi-classe\n",
    "        shap_values = shap_exp.values[0] if len(shap_exp.values.shape) > 2 else shap_exp.values\n",
    "        if len(shap_values.shape) > 1:\n",
    "            shap_values = shap_values[pred]\n",
    "        \n",
    "        print(\"Valores SHAP brutos:\", shap_values)  # Para depuração\n",
    "        \n",
    "        explicacoes = []\n",
    "        for i, val in enumerate(shap_values):\n",
    "            if abs(val) > 0.001:  # Reduzir limiar\n",
    "                direcao = \"aumentou\" if val > 0 else \"reduziu\"\n",
    "                explicacoes.append(f\"- Feature '{features[i]}' {direcao} a probabilidade de ser verdadeiro (impacto {val:.3f}).\")\n",
    "        return \"\\n\".join(explicacoes) if explicacoes else \"Nenhuma feature teve impacto relevante (limiar 0.001).\"\n",
    "    except Exception as e:\n",
    "        return f\"Erro ao explicar predição: {str(e)}\""
   ]
  },
  {
   "cell_type": "markdown",
   "id": "f71bfe8c",
   "metadata": {},
   "source": [
    "### Testes com exemplos"
   ]
  },
  {
   "cell_type": "code",
   "execution_count": null,
   "id": "fbd8f1e0",
   "metadata": {},
   "outputs": [
    {
     "name": "stdout",
     "output_type": "stream",
     "text": [
      "\n",
      "Boleto 1: Predição = Falso, Probabilidades = [0.97, 0.03]\n",
      "Valores SHAP brutos: [ 0.00361008 -0.00361008]\n",
      "- Feature 'banco' aumentou a probabilidade de ser verdadeiro (impacto 0.004).\n",
      "- Feature 'codigoBanco' reduziu a probabilidade de ser verdadeiro (impacto -0.004).\n",
      "Erro no boleto 1: matplotlib = True is not yet supported for force plots with multiple samples!\n",
      "\n",
      "Boleto 2: Predição = Falso, Probabilidades = [0.98, 0.02]\n",
      "Valores SHAP brutos: [ 0.00287933 -0.00287933]\n",
      "- Feature 'banco' aumentou a probabilidade de ser verdadeiro (impacto 0.003).\n",
      "- Feature 'codigoBanco' reduziu a probabilidade de ser verdadeiro (impacto -0.003).\n",
      "Erro no boleto 2: matplotlib = True is not yet supported for force plots with multiple samples!\n"
     ]
    }
   ],
   "source": [
    "\n",
    "\n",
    "# Testes\n",
    "testes = [\n",
    "    {  # Falso: OLIVEIRA TRUST\n",
    "        'banco': 10, 'codigoBanco': 700, 'agencia': 712, 'valor': 834629.43,\n",
    "        'linha_codBanco': 111, 'linha_moeda': 0, 'linha_valor': 83462943\n",
    "    },\n",
    "    {  # Falso: Nubank\n",
    "        'banco': 12, 'codigoBanco': 188, 'agencia': 101, 'valor': 731538.0,\n",
    "        'linha_codBanco': 260, 'linha_moeda': 3, 'linha_valor': 94228611\n",
    "    }\n",
    "]\n",
    "\n",
    "features = ['banco', 'codigoBanco', 'agencia', 'valor', 'linha_codBanco', 'linha_moeda', 'linha_valor']\n",
    "\n",
    "for i, teste in enumerate(testes):\n",
    "    try:\n",
    "        dado_teste = pd.DataFrame([teste])[features].astype(float)\n",
    "        pred = int(model.predict(dado_teste)[0])\n",
    "        prob = model.predict_proba(dado_teste)[0].tolist()\n",
    "        print(f'\\nBoleto {i+1}: Predição = {\"Verdadeiro\" if pred == 1 else \"Falso\"}, Probabilidades = {prob}')\n",
    "        \n",
    "        # Explicação SHAP\n",
    "        shap_exp = explainer(dado_teste)\n",
    "        explicacoes = explicar_predicao(explainer, dado_teste, features)\n",
    "        print(explicacoes)\n",
    "        \n",
    "        # Force plot\n",
    "        shap.plots.force(\n",
    "            explainer.expected_value[pred] if len(explainer.expected_value) > 1 else explainer.expected_value,\n",
    "            shap_exp.values[0] if len(shap_exp.values.shape) > 2 else shap_exp.values,\n",
    "            dado_teste.iloc[0].to_numpy(),\n",
    "            feature_names=features,\n",
    "            matplotlib=True\n",
    "        )\n",
    "        plt.show()\n",
    "    except Exception as e:\n",
    "        print(f\"Erro no boleto {i+1}: {str(e)}\")"
   ]
  }
 ],
 "metadata": {
  "kernelspec": {
   "display_name": ".venv",
   "language": "python",
   "name": "python3"
  },
  "language_info": {
   "codemirror_mode": {
    "name": "ipython",
    "version": 3
   },
   "file_extension": ".py",
   "mimetype": "text/x-python",
   "name": "python",
   "nbconvert_exporter": "python",
   "pygments_lexer": "ipython3",
   "version": "3.11.9"
  }
 },
 "nbformat": 4,
 "nbformat_minor": 5
}
